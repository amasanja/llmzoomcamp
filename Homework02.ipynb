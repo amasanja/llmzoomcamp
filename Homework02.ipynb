{
 "cells": [
  {
   "cell_type": "markdown",
   "id": "3e8af685-d475-42d8-973c-5e1444107eed",
   "metadata": {},
   "source": [
    "## Q1. Running Ollama with Docker"
   ]
  },
  {
   "cell_type": "markdown",
   "id": "47e478dc-14cf-46f9-bb46-ded53b32223d",
   "metadata": {},
   "source": [
    "Command to download and run ollama docker image"
   ]
  },
  {
   "cell_type": "raw",
   "id": "9c1ef263-ef23-4a12-aa0f-9626ff9c954c",
   "metadata": {},
   "source": [
    "docker run -it \\\n",
    "    --rm \\\n",
    "    -v ollama:/root/.ollama \\\n",
    "    -p 11434:11434 \\\n",
    "    --name ollama \\\n",
    "    ollama/ollama"
   ]
  },
  {
   "cell_type": "markdown",
   "id": "9dac6d94-79ef-4a8d-83b8-eb6621bae803",
   "metadata": {},
   "source": [
    "Command to check the ollama vervision"
   ]
  },
  {
   "cell_type": "raw",
   "id": "9b28488b-8228-49ad-a174-bb5df4925a3b",
   "metadata": {},
   "source": [
    "ollama -v"
   ]
  }
 ],
 "metadata": {
  "kernelspec": {
   "display_name": "Python 3 (ipykernel)",
   "language": "python",
   "name": "python3"
  },
  "language_info": {
   "codemirror_mode": {
    "name": "ipython",
    "version": 3
   },
   "file_extension": ".py",
   "mimetype": "text/x-python",
   "name": "python",
   "nbconvert_exporter": "python",
   "pygments_lexer": "ipython3",
   "version": "3.10.13"
  }
 },
 "nbformat": 4,
 "nbformat_minor": 5
}
